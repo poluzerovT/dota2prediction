{
 "cells": [
  {
   "cell_type": "code",
   "execution_count": null,
   "id": "1148c2cd-76b7-4a91-a442-bdf925a4f6c5",
   "metadata": {
    "tags": []
   },
   "outputs": [],
   "source": [
    "import pandas as pd\n",
    "import numpy as np\n",
    "import random\n",
    "\n",
    "from sklearn.model_selection import cross_val_score, KFold\n",
    "\n",
    "import time\n",
    "import datetime"
   ]
  },
  {
   "cell_type": "markdown",
   "id": "f7425dc9-a576-43d2-8cad-294451ceaddf",
   "metadata": {
    "tags": []
   },
   "source": [
    "## Data reading"
   ]
  },
  {
   "cell_type": "code",
   "execution_count": null,
   "id": "f1fd89b0-0ec6-4ddf-9805-7c6400002fb6",
   "metadata": {},
   "outputs": [],
   "source": [
    "df_train = pd.read_csv('../data/features.csv')\n",
    "df_test = pd.read_csv('../data/features_test.csv')\n",
    "df_all = pd.concat([df_train, df_test]).reset_index(drop=True)\n",
    "\n",
    "df_train.shape, df_test.shape, df_all.shape"
   ]
  },
  {
   "cell_type": "markdown",
   "id": "b2dada8c-0cfe-468d-8602-7cb64333d32a",
   "metadata": {},
   "source": [
    "#### drop excess features from train sample"
   ]
  },
  {
   "cell_type": "code",
   "execution_count": null,
   "id": "2acf1318-13d6-4d01-8657-0c0f909dcc72",
   "metadata": {},
   "outputs": [],
   "source": [
    "df_all =df_all[ list(df_test.columns) + ['radiant_win']] \n",
    "df_all"
   ]
  },
  {
   "cell_type": "markdown",
   "id": "d6f7384f-2d50-4649-bc80-8dfd5db86629",
   "metadata": {},
   "source": [
    "#### empty values in columns"
   ]
  },
  {
   "cell_type": "code",
   "execution_count": null,
   "id": "c4656a13-ef45-42a4-bfe3-beb039ffa040",
   "metadata": {},
   "outputs": [],
   "source": [
    "df_train.columns[ list(df_train.count() < df_train.shape[0]) ]"
   ]
  },
  {
   "cell_type": "markdown",
   "id": "73b3ccfd-11e7-49b3-8f18-e32ed0a6bc90",
   "metadata": {},
   "source": [
    "## Gradient Boosting"
   ]
  },
  {
   "cell_type": "code",
   "execution_count": null,
   "id": "4d87299b-8430-412a-bbfc-65f4b859e8b2",
   "metadata": {},
   "outputs": [],
   "source": [
    "from sklearn.ensemble import GradientBoostingClassifier"
   ]
  },
  {
   "cell_type": "markdown",
   "id": "c60e6442-8c1b-4ea7-b51f-1ae4eec01b7a",
   "metadata": {},
   "source": [
    "#### fill null fields as big value"
   ]
  },
  {
   "cell_type": "code",
   "execution_count": null,
   "id": "b719b4a5-de0c-46c1-b808-01b9acf7777b",
   "metadata": {},
   "outputs": [],
   "source": [
    "def cross_val_GB(df_train, features=None, target='radiant_win', n_est = [10, 20, 30], frac=1):\n",
    "    if frac < 1:\n",
    "        df_train = df_train.sample(frac=frac)\n",
    "    if features is None:\n",
    "        features = [f for f in df_train.columns if f != target ]\n",
    "    X_train = df_train[features].values\n",
    "    y_train = df_train[target].values\n",
    "    cvs = {}\n",
    "    for n in n_est:\n",
    "        start_time = datetime.datetime.now()\n",
    "        clf = GradientBoostingClassifier(n_estimators=n, max_depth=3)\n",
    "        cv = KFold(n_splits=5, shuffle=True)\n",
    "        accur = cross_val_score(clf, X_train, y_train, cv=cv, scoring='roc_auc')\n",
    "        cvs[n] = accur.mean()\n",
    "        \n",
    "        print('time for {0} n_estimators: {1}'.format(n, datetime.datetime.now() - start_time))\n",
    "    cvs = pd.Series(cvs)\n",
    "    return cvs"
   ]
  },
  {
   "cell_type": "code",
   "execution_count": null,
   "id": "89f9018e-bc29-4cf0-a10e-da7f5a395b66",
   "metadata": {},
   "outputs": [],
   "source": [
    "def predict_GB(df_train, df_test, features, n_esti = 20, target='radiant_win', filename='predict'):\n",
    "    \n",
    "    clf = GradientBoostingClassifier(n_estimators=n_esti)\n",
    "    \n",
    "    X_train = df_train[features].values\n",
    "    y_train = df_train[target].values\n",
    "    X_test = df_test[features].values\n",
    "    \n",
    "    clf.fit(X_train, y_train)\n",
    "    y_proba = clf.predict_proba(X_test)\n",
    "    \n",
    "    df_res = pd.DataFrame()\n",
    "    df_res['match_id'] = df_test['match_id']\n",
    "    df_res['radiant_win'] = y_proba[:,1]\n",
    "    df_res.to_csv('GB_{}.csv'.format(filename), index=False)\n"
   ]
  },
  {
   "cell_type": "code",
   "execution_count": null,
   "id": "2b9feead-d6a8-45e1-90cb-c949cf0d77b8",
   "metadata": {},
   "outputs": [],
   "source": [
    "drop_features = ['radiant_win', 'match_id', 'start_time']\n",
    "features_all = [f for f in df_all.columns if f not in drop_features]"
   ]
  },
  {
   "cell_type": "code",
   "execution_count": null,
   "id": "68b0a19c-6c44-4ce1-af97-6dc58aef6bd7",
   "metadata": {},
   "outputs": [],
   "source": [
    "df_train = df_all[df_all['radiant_win'].notnull()].fillna(99999)\n",
    "df_test = df_all[df_all['radiant_win'].isnull()].fillna(99999)"
   ]
  },
  {
   "cell_type": "code",
   "execution_count": null,
   "id": "528e8979-5b5d-451b-9ec4-bbcab117afe9",
   "metadata": {},
   "outputs": [],
   "source": [
    "%%time\n",
    "\n",
    "features = features_all\n",
    "scores = cross_val_GB(df_train, features, frac=0.5)\n",
    "scores"
   ]
  },
  {
   "cell_type": "code",
   "execution_count": null,
   "id": "bf0be3e6-f8c3-4026-9689-b693839d925c",
   "metadata": {},
   "outputs": [],
   "source": [
    "best_param = scores.idxmax()\n",
    "best_param, scores[best_param]"
   ]
  },
  {
   "cell_type": "code",
   "execution_count": null,
   "id": "e205bad0-96e5-4e2c-b02c-4c8adce9c9ae",
   "metadata": {},
   "outputs": [],
   "source": [
    "\n",
    "predict_GB(df_train, df_test, features, n_esti=best_param, filename='simpleGB')"
   ]
  },
  {
   "cell_type": "code",
   "execution_count": null,
   "id": "ae3e6a83-6fcb-4ec4-92ec-6360cce20489",
   "metadata": {},
   "outputs": [],
   "source": []
  },
  {
   "cell_type": "markdown",
   "id": "85740eb4-1dde-4965-a00c-314ee8e3dc3c",
   "metadata": {},
   "source": [
    "## Logistic regression"
   ]
  },
  {
   "cell_type": "code",
   "execution_count": null,
   "id": "d0516241-108f-43b8-bf22-806242982ca5",
   "metadata": {},
   "outputs": [],
   "source": [
    "from sklearn.linear_model import LogisticRegression\n",
    "from sklearn.preprocessing import StandardScaler"
   ]
  },
  {
   "cell_type": "code",
   "execution_count": null,
   "id": "2f3ae0ac-8632-4685-a341-fb1a74f36803",
   "metadata": {},
   "outputs": [],
   "source": [
    "def cross_val_LR(df_train, features=None, target='radiant_win', C = [0.25, 0.5, 1, 1.5, 2, 2.5, 3], frac=1, scale=False):\n",
    "    if frac < 1:\n",
    "        df_train = df_train.sample(frac=frac)\n",
    "    if features is None:\n",
    "        features = [f for f in df_train.columns if f != target ]\n",
    "    X_train = df_train[features].values\n",
    "    y_train = df_train[target].values\n",
    "    \n",
    "    if scale:\n",
    "        ss = StandardScaler()\n",
    "        X_train = ss.fit_transform(X_train)\n",
    "        \n",
    "    cvs = {}\n",
    "    for c in C:\n",
    "        clf = LogisticRegression(C=c)\n",
    "        cv = KFold(n_splits=5, shuffle=True)\n",
    "        accur = cross_val_score(clf, X_train, y_train, cv=cv, scoring='roc_auc')\n",
    "        cvs[c] = accur.mean()\n",
    "    cvs = pd.Series(cvs, name='[n_estimators] : accuracy')\n",
    "    return cvs\n",
    "                   "
   ]
  },
  {
   "cell_type": "code",
   "execution_count": null,
   "id": "7e0cb2e9-99b2-43cd-9229-92cb632b3ce6",
   "metadata": {},
   "outputs": [],
   "source": [
    "def predict_LR(df_train, df_test, features, c=1, target='radiant_win', filename='predict'):\n",
    "    clf = LogisticRegression(C=c)\n",
    "    ss = StandardScaler()\n",
    "    \n",
    "    X_train = ss.fit_transform(df_train[features].values)\n",
    "    y_train = df_train[target].values\n",
    "    X_test = ss.transform(df_test[features].values)\n",
    "    \n",
    "    clf.fit(X_train, y_train)\n",
    "    y_proba = clf.predict_proba(X_test)\n",
    "    \n",
    "    df_res = pd.DataFrame()\n",
    "    df_res['match_id'] = df_test['match_id']\n",
    "    df_res['radiant_win'] = y_proba[:,1]\n",
    "    df_res.to_csv('LR_{}.csv'.format(filename), index=False)\n"
   ]
  },
  {
   "cell_type": "code",
   "execution_count": null,
   "id": "4e3ead50-7ecd-46f8-8997-99abe3b7da5d",
   "metadata": {},
   "outputs": [],
   "source": [
    "drop_features = ['radiant_win', 'match_id', 'start_time']\n",
    "features_all = [f for f in df_all.columns if f not in drop_features]"
   ]
  },
  {
   "cell_type": "markdown",
   "id": "d829804d-1ed3-40eb-8f26-d2cc2e59b7a7",
   "metadata": {},
   "source": [
    "#### simple classification"
   ]
  },
  {
   "cell_type": "code",
   "execution_count": null,
   "id": "30b251fa-bdcb-4c19-8847-d832f3daae36",
   "metadata": {},
   "outputs": [],
   "source": [
    "df_train = df_all[df_all['radiant_win'].notnull()].fillna(0)\n",
    "df_test = df_all[df_all['radiant_win'].isnull()].fillna(0)"
   ]
  },
  {
   "cell_type": "code",
   "execution_count": null,
   "id": "cabe5f4b-6213-417f-beb3-09a491305536",
   "metadata": {},
   "outputs": [],
   "source": [
    "%%time\n",
    "\n",
    "features = features_all\n",
    "scores = cross_val_LR(df_train, features, scale=True)\n",
    "scores"
   ]
  },
  {
   "cell_type": "code",
   "execution_count": null,
   "id": "1070d4c9-bea9-47b0-85ba-9f74a692ab05",
   "metadata": {},
   "outputs": [],
   "source": [
    "best_param = scores.idxmax()\n",
    "best_param, scores[best_param]"
   ]
  },
  {
   "cell_type": "code",
   "execution_count": null,
   "id": "86a6e426-9b48-4643-a222-ca6850a95b86",
   "metadata": {},
   "outputs": [],
   "source": [
    "predict_LR(df_train, df_test, features, c=best_param, filename='simple')"
   ]
  },
  {
   "cell_type": "markdown",
   "id": "59bd7800-6c34-4e6d-a90c-1ec0e62a2fb9",
   "metadata": {},
   "source": [
    "#### drop categorial features"
   ]
  },
  {
   "cell_type": "code",
   "execution_count": null,
   "id": "3e9101fe-58d4-48ce-b8db-76f8d323477f",
   "metadata": {},
   "outputs": [],
   "source": [
    "categ_features = [f for f in features_all if f.endswith('_hero')] + ['lobby_type']\n",
    "categ_features"
   ]
  },
  {
   "cell_type": "code",
   "execution_count": null,
   "id": "f2b18792-1935-45bb-a798-0909d2e00558",
   "metadata": {},
   "outputs": [],
   "source": [
    "%%time \n",
    "\n",
    "features = [f for f in features_all if f not in categ_features]\n",
    "scores = cross_val_LR(df_train, features,C=[best_param], scale=True)\n",
    "scores"
   ]
  },
  {
   "cell_type": "code",
   "execution_count": null,
   "id": "fe8b4bf9-d31c-4a3c-b059-567be0ce03f9",
   "metadata": {},
   "outputs": [],
   "source": [
    "predict_LR(df_train, df_test, features, c=best_param, filename='no_categ_feats')"
   ]
  },
  {
   "cell_type": "markdown",
   "id": "28a6805f-4e93-487e-b529-366f76c52e37",
   "metadata": {},
   "source": [
    "#### using bag of heroes"
   ]
  },
  {
   "cell_type": "code",
   "execution_count": null,
   "id": "2c7f55c8-6b6b-4c71-8a51-a65e33ddd0af",
   "metadata": {},
   "outputs": [],
   "source": [
    "heroes = np.unique( df_train[[x for x in df_all.columns if x.endswith('_hero')]].values.reshape(-1) )\n",
    "len(heroes), heroes"
   ]
  },
  {
   "cell_type": "code",
   "execution_count": null,
   "id": "212818fa-e9e3-4ff5-b4f4-8b8cade73a9a",
   "metadata": {},
   "outputs": [],
   "source": [
    "def bag_of_heroes(df, heroes=None, target='radiant_win'):\n",
    "    if heroes is None:\n",
    "        heroes = np.unique( df[[x for x in df.columns if x.endswith('_hero')]].values.reshape(-1) )\n",
    "        \n",
    "    X_pick = np.zeros((df.shape[0], heroes.max()))\n",
    "    \n",
    "    i_mod = int(0.1 * df.shape[0])\n",
    "    for i, match_id in enumerate(df.index):\n",
    "        for p in range(1,6):\n",
    "            X_pick[i, int(df.iloc[i][ 'r{}_hero'.format(p)]-1)] = 1\n",
    "            X_pick[i, int(df.iloc[i][ 'd{}_hero'.format(p)]-1)] = -1\n",
    "        if i % i_mod == 0:\n",
    "            print(int(100 * i / df.shape[0]), '%')\n",
    "            \n",
    "    cols = [str(h) for h in range(max(heroes))]\n",
    "    \n",
    "    df = pd.concat([df, pd.DataFrame( X_pick, columns=cols)], axis=1 )\n",
    "    df_train = df[df[target].notnull()]\n",
    "    df_test = df[df[target].isnull()]\n",
    "    return df_train, df_test"
   ]
  },
  {
   "cell_type": "code",
   "execution_count": null,
   "id": "2411afa6-e01e-4d3e-a513-4e972e89ba9d",
   "metadata": {},
   "outputs": [],
   "source": [
    "%%time\n",
    "\n",
    "df_train, df_test = bag_of_heroes(df_all)\n",
    "df_train = df_train.fillna(0)\n",
    "df_test = df_test.fillna(0)\n",
    "\n",
    "df_train.shape, df_test.shape"
   ]
  },
  {
   "cell_type": "code",
   "execution_count": null,
   "id": "1dc48a00-ad65-40e5-91e1-2c35c8633b13",
   "metadata": {},
   "outputs": [],
   "source": [
    "%%time\n",
    "\n",
    "features = [f for f in features_all if f not in categ_features] + [str(h) for h in range(max(heroes))]\n",
    "scores = cross_val_LR(df_train, features,C=[best_param], scale=True)\n",
    "scores"
   ]
  },
  {
   "cell_type": "code",
   "execution_count": null,
   "id": "c8b82d4a-b834-4cf3-8a1b-49e87cfdd250",
   "metadata": {},
   "outputs": [],
   "source": [
    "predict_LR(df_train, df_test, features, c=best_param, filename='bag_of_heroes')"
   ]
  }
 ],
 "metadata": {
  "kernelspec": {
   "display_name": "Python 3 (ipykernel)",
   "language": "python",
   "name": "python3"
  },
  "language_info": {
   "codemirror_mode": {
    "name": "ipython",
    "version": 3
   },
   "file_extension": ".py",
   "mimetype": "text/x-python",
   "name": "python",
   "nbconvert_exporter": "python",
   "pygments_lexer": "ipython3",
   "version": "3.8.3"
  },
  "toc-autonumbering": false,
  "toc-showcode": false,
  "toc-showmarkdowntxt": true,
  "toc-showtags": true
 },
 "nbformat": 4,
 "nbformat_minor": 5
}
