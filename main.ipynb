{
 "cells": [
  {
   "cell_type": "code",
   "execution_count": 39,
   "id": "1148c2cd-76b7-4a91-a442-bdf925a4f6c5",
   "metadata": {
    "tags": []
   },
   "outputs": [],
   "source": [
    "import pandas as pd\n",
    "import numpy as np\n",
    "import random\n",
    "\n",
    "from sklearn.model_selection import cross_val_score, KFold"
   ]
  },
  {
   "cell_type": "markdown",
   "id": "f7425dc9-a576-43d2-8cad-294451ceaddf",
   "metadata": {
    "tags": []
   },
   "source": [
    "## Data reading"
   ]
  },
  {
   "cell_type": "code",
   "execution_count": 2,
   "id": "f1fd89b0-0ec6-4ddf-9805-7c6400002fb6",
   "metadata": {},
   "outputs": [
    {
     "data": {
      "text/plain": [
       "((97230, 109), (17177, 103), (114407, 109))"
      ]
     },
     "execution_count": 2,
     "metadata": {},
     "output_type": "execute_result"
    }
   ],
   "source": [
    "df_train = pd.read_csv('../features.csv')\n",
    "df_test = pd.read_csv('../features_test.csv')\n",
    "df_all = pd.concat([df_train, df_test]).reset_index(drop=True)\n",
    "\n",
    "df_train.shape, df_test.shape, df_all.shape"
   ]
  },
  {
   "cell_type": "markdown",
   "id": "b2dada8c-0cfe-468d-8602-7cb64333d32a",
   "metadata": {},
   "source": [
    "#### drop excess features from train sample"
   ]
  },
  {
   "cell_type": "code",
   "execution_count": 3,
   "id": "2acf1318-13d6-4d01-8657-0c0f909dcc72",
   "metadata": {},
   "outputs": [
    {
     "data": {
      "text/html": [
       "<div>\n",
       "<style scoped>\n",
       "    .dataframe tbody tr th:only-of-type {\n",
       "        vertical-align: middle;\n",
       "    }\n",
       "\n",
       "    .dataframe tbody tr th {\n",
       "        vertical-align: top;\n",
       "    }\n",
       "\n",
       "    .dataframe thead th {\n",
       "        text-align: right;\n",
       "    }\n",
       "</style>\n",
       "<table border=\"1\" class=\"dataframe\">\n",
       "  <thead>\n",
       "    <tr style=\"text-align: right;\">\n",
       "      <th></th>\n",
       "      <th>match_id</th>\n",
       "      <th>start_time</th>\n",
       "      <th>lobby_type</th>\n",
       "      <th>r1_hero</th>\n",
       "      <th>r1_level</th>\n",
       "      <th>r1_xp</th>\n",
       "      <th>r1_gold</th>\n",
       "      <th>r1_lh</th>\n",
       "      <th>r1_kills</th>\n",
       "      <th>r1_deaths</th>\n",
       "      <th>...</th>\n",
       "      <th>radiant_first_ward_time</th>\n",
       "      <th>dire_bottle_time</th>\n",
       "      <th>dire_courier_time</th>\n",
       "      <th>dire_flying_courier_time</th>\n",
       "      <th>dire_tpscroll_count</th>\n",
       "      <th>dire_boots_count</th>\n",
       "      <th>dire_ward_observer_count</th>\n",
       "      <th>dire_ward_sentry_count</th>\n",
       "      <th>dire_first_ward_time</th>\n",
       "      <th>radiant_win</th>\n",
       "    </tr>\n",
       "  </thead>\n",
       "  <tbody>\n",
       "    <tr>\n",
       "      <th>0</th>\n",
       "      <td>0</td>\n",
       "      <td>1430198770</td>\n",
       "      <td>7</td>\n",
       "      <td>11</td>\n",
       "      <td>5</td>\n",
       "      <td>2098</td>\n",
       "      <td>1489</td>\n",
       "      <td>20</td>\n",
       "      <td>0</td>\n",
       "      <td>0</td>\n",
       "      <td>...</td>\n",
       "      <td>35.0</td>\n",
       "      <td>103.0</td>\n",
       "      <td>-84.0</td>\n",
       "      <td>221.0</td>\n",
       "      <td>3</td>\n",
       "      <td>4</td>\n",
       "      <td>2</td>\n",
       "      <td>2</td>\n",
       "      <td>-52.0</td>\n",
       "      <td>1.0</td>\n",
       "    </tr>\n",
       "    <tr>\n",
       "      <th>1</th>\n",
       "      <td>1</td>\n",
       "      <td>1430220345</td>\n",
       "      <td>0</td>\n",
       "      <td>42</td>\n",
       "      <td>4</td>\n",
       "      <td>1188</td>\n",
       "      <td>1033</td>\n",
       "      <td>9</td>\n",
       "      <td>0</td>\n",
       "      <td>1</td>\n",
       "      <td>...</td>\n",
       "      <td>-20.0</td>\n",
       "      <td>149.0</td>\n",
       "      <td>-84.0</td>\n",
       "      <td>195.0</td>\n",
       "      <td>5</td>\n",
       "      <td>4</td>\n",
       "      <td>3</td>\n",
       "      <td>1</td>\n",
       "      <td>-5.0</td>\n",
       "      <td>1.0</td>\n",
       "    </tr>\n",
       "    <tr>\n",
       "      <th>2</th>\n",
       "      <td>2</td>\n",
       "      <td>1430227081</td>\n",
       "      <td>7</td>\n",
       "      <td>33</td>\n",
       "      <td>4</td>\n",
       "      <td>1319</td>\n",
       "      <td>1270</td>\n",
       "      <td>22</td>\n",
       "      <td>0</td>\n",
       "      <td>0</td>\n",
       "      <td>...</td>\n",
       "      <td>-39.0</td>\n",
       "      <td>45.0</td>\n",
       "      <td>-77.0</td>\n",
       "      <td>221.0</td>\n",
       "      <td>3</td>\n",
       "      <td>4</td>\n",
       "      <td>3</td>\n",
       "      <td>1</td>\n",
       "      <td>13.0</td>\n",
       "      <td>0.0</td>\n",
       "    </tr>\n",
       "    <tr>\n",
       "      <th>3</th>\n",
       "      <td>3</td>\n",
       "      <td>1430263531</td>\n",
       "      <td>1</td>\n",
       "      <td>29</td>\n",
       "      <td>4</td>\n",
       "      <td>1779</td>\n",
       "      <td>1056</td>\n",
       "      <td>14</td>\n",
       "      <td>0</td>\n",
       "      <td>0</td>\n",
       "      <td>...</td>\n",
       "      <td>-30.0</td>\n",
       "      <td>124.0</td>\n",
       "      <td>-80.0</td>\n",
       "      <td>184.0</td>\n",
       "      <td>0</td>\n",
       "      <td>4</td>\n",
       "      <td>2</td>\n",
       "      <td>0</td>\n",
       "      <td>27.0</td>\n",
       "      <td>0.0</td>\n",
       "    </tr>\n",
       "    <tr>\n",
       "      <th>4</th>\n",
       "      <td>4</td>\n",
       "      <td>1430282290</td>\n",
       "      <td>7</td>\n",
       "      <td>13</td>\n",
       "      <td>4</td>\n",
       "      <td>1431</td>\n",
       "      <td>1090</td>\n",
       "      <td>8</td>\n",
       "      <td>1</td>\n",
       "      <td>0</td>\n",
       "      <td>...</td>\n",
       "      <td>46.0</td>\n",
       "      <td>182.0</td>\n",
       "      <td>-80.0</td>\n",
       "      <td>225.0</td>\n",
       "      <td>6</td>\n",
       "      <td>3</td>\n",
       "      <td>3</td>\n",
       "      <td>0</td>\n",
       "      <td>-16.0</td>\n",
       "      <td>0.0</td>\n",
       "    </tr>\n",
       "    <tr>\n",
       "      <th>...</th>\n",
       "      <td>...</td>\n",
       "      <td>...</td>\n",
       "      <td>...</td>\n",
       "      <td>...</td>\n",
       "      <td>...</td>\n",
       "      <td>...</td>\n",
       "      <td>...</td>\n",
       "      <td>...</td>\n",
       "      <td>...</td>\n",
       "      <td>...</td>\n",
       "      <td>...</td>\n",
       "      <td>...</td>\n",
       "      <td>...</td>\n",
       "      <td>...</td>\n",
       "      <td>...</td>\n",
       "      <td>...</td>\n",
       "      <td>...</td>\n",
       "      <td>...</td>\n",
       "      <td>...</td>\n",
       "      <td>...</td>\n",
       "      <td>...</td>\n",
       "    </tr>\n",
       "    <tr>\n",
       "      <th>114402</th>\n",
       "      <td>114369</td>\n",
       "      <td>1450212780</td>\n",
       "      <td>7</td>\n",
       "      <td>11</td>\n",
       "      <td>5</td>\n",
       "      <td>2054</td>\n",
       "      <td>1941</td>\n",
       "      <td>27</td>\n",
       "      <td>0</td>\n",
       "      <td>1</td>\n",
       "      <td>...</td>\n",
       "      <td>8.0</td>\n",
       "      <td>253.0</td>\n",
       "      <td>-87.0</td>\n",
       "      <td>NaN</td>\n",
       "      <td>4</td>\n",
       "      <td>3</td>\n",
       "      <td>2</td>\n",
       "      <td>1</td>\n",
       "      <td>-33.0</td>\n",
       "      <td>NaN</td>\n",
       "    </tr>\n",
       "    <tr>\n",
       "      <th>114403</th>\n",
       "      <td>114377</td>\n",
       "      <td>1450222875</td>\n",
       "      <td>1</td>\n",
       "      <td>3</td>\n",
       "      <td>3</td>\n",
       "      <td>748</td>\n",
       "      <td>605</td>\n",
       "      <td>1</td>\n",
       "      <td>0</td>\n",
       "      <td>0</td>\n",
       "      <td>...</td>\n",
       "      <td>-1.0</td>\n",
       "      <td>133.0</td>\n",
       "      <td>-85.0</td>\n",
       "      <td>184.0</td>\n",
       "      <td>2</td>\n",
       "      <td>3</td>\n",
       "      <td>4</td>\n",
       "      <td>1</td>\n",
       "      <td>-18.0</td>\n",
       "      <td>NaN</td>\n",
       "    </tr>\n",
       "    <tr>\n",
       "      <th>114404</th>\n",
       "      <td>114378</td>\n",
       "      <td>1450223593</td>\n",
       "      <td>1</td>\n",
       "      <td>85</td>\n",
       "      <td>2</td>\n",
       "      <td>575</td>\n",
       "      <td>499</td>\n",
       "      <td>0</td>\n",
       "      <td>0</td>\n",
       "      <td>0</td>\n",
       "      <td>...</td>\n",
       "      <td>20.0</td>\n",
       "      <td>133.0</td>\n",
       "      <td>-88.0</td>\n",
       "      <td>239.0</td>\n",
       "      <td>4</td>\n",
       "      <td>4</td>\n",
       "      <td>4</td>\n",
       "      <td>0</td>\n",
       "      <td>-36.0</td>\n",
       "      <td>NaN</td>\n",
       "    </tr>\n",
       "    <tr>\n",
       "      <th>114405</th>\n",
       "      <td>114393</td>\n",
       "      <td>1450244771</td>\n",
       "      <td>0</td>\n",
       "      <td>7</td>\n",
       "      <td>4</td>\n",
       "      <td>1844</td>\n",
       "      <td>1176</td>\n",
       "      <td>8</td>\n",
       "      <td>1</td>\n",
       "      <td>2</td>\n",
       "      <td>...</td>\n",
       "      <td>-28.0</td>\n",
       "      <td>NaN</td>\n",
       "      <td>-83.0</td>\n",
       "      <td>NaN</td>\n",
       "      <td>1</td>\n",
       "      <td>4</td>\n",
       "      <td>1</td>\n",
       "      <td>0</td>\n",
       "      <td>NaN</td>\n",
       "      <td>NaN</td>\n",
       "    </tr>\n",
       "    <tr>\n",
       "      <th>114406</th>\n",
       "      <td>114398</td>\n",
       "      <td>1450255429</td>\n",
       "      <td>1</td>\n",
       "      <td>8</td>\n",
       "      <td>4</td>\n",
       "      <td>1215</td>\n",
       "      <td>1305</td>\n",
       "      <td>13</td>\n",
       "      <td>0</td>\n",
       "      <td>0</td>\n",
       "      <td>...</td>\n",
       "      <td>38.0</td>\n",
       "      <td>124.0</td>\n",
       "      <td>-82.0</td>\n",
       "      <td>249.0</td>\n",
       "      <td>4</td>\n",
       "      <td>2</td>\n",
       "      <td>2</td>\n",
       "      <td>0</td>\n",
       "      <td>27.0</td>\n",
       "      <td>NaN</td>\n",
       "    </tr>\n",
       "  </tbody>\n",
       "</table>\n",
       "<p>114407 rows × 104 columns</p>\n",
       "</div>"
      ],
      "text/plain": [
       "        match_id  start_time  lobby_type  r1_hero  r1_level  r1_xp  r1_gold  \\\n",
       "0              0  1430198770           7       11         5   2098     1489   \n",
       "1              1  1430220345           0       42         4   1188     1033   \n",
       "2              2  1430227081           7       33         4   1319     1270   \n",
       "3              3  1430263531           1       29         4   1779     1056   \n",
       "4              4  1430282290           7       13         4   1431     1090   \n",
       "...          ...         ...         ...      ...       ...    ...      ...   \n",
       "114402    114369  1450212780           7       11         5   2054     1941   \n",
       "114403    114377  1450222875           1        3         3    748      605   \n",
       "114404    114378  1450223593           1       85         2    575      499   \n",
       "114405    114393  1450244771           0        7         4   1844     1176   \n",
       "114406    114398  1450255429           1        8         4   1215     1305   \n",
       "\n",
       "        r1_lh  r1_kills  r1_deaths  ...  radiant_first_ward_time  \\\n",
       "0          20         0          0  ...                     35.0   \n",
       "1           9         0          1  ...                    -20.0   \n",
       "2          22         0          0  ...                    -39.0   \n",
       "3          14         0          0  ...                    -30.0   \n",
       "4           8         1          0  ...                     46.0   \n",
       "...       ...       ...        ...  ...                      ...   \n",
       "114402     27         0          1  ...                      8.0   \n",
       "114403      1         0          0  ...                     -1.0   \n",
       "114404      0         0          0  ...                     20.0   \n",
       "114405      8         1          2  ...                    -28.0   \n",
       "114406     13         0          0  ...                     38.0   \n",
       "\n",
       "        dire_bottle_time  dire_courier_time  dire_flying_courier_time  \\\n",
       "0                  103.0              -84.0                     221.0   \n",
       "1                  149.0              -84.0                     195.0   \n",
       "2                   45.0              -77.0                     221.0   \n",
       "3                  124.0              -80.0                     184.0   \n",
       "4                  182.0              -80.0                     225.0   \n",
       "...                  ...                ...                       ...   \n",
       "114402             253.0              -87.0                       NaN   \n",
       "114403             133.0              -85.0                     184.0   \n",
       "114404             133.0              -88.0                     239.0   \n",
       "114405               NaN              -83.0                       NaN   \n",
       "114406             124.0              -82.0                     249.0   \n",
       "\n",
       "        dire_tpscroll_count  dire_boots_count  dire_ward_observer_count  \\\n",
       "0                         3                 4                         2   \n",
       "1                         5                 4                         3   \n",
       "2                         3                 4                         3   \n",
       "3                         0                 4                         2   \n",
       "4                         6                 3                         3   \n",
       "...                     ...               ...                       ...   \n",
       "114402                    4                 3                         2   \n",
       "114403                    2                 3                         4   \n",
       "114404                    4                 4                         4   \n",
       "114405                    1                 4                         1   \n",
       "114406                    4                 2                         2   \n",
       "\n",
       "        dire_ward_sentry_count  dire_first_ward_time  radiant_win  \n",
       "0                            2                 -52.0          1.0  \n",
       "1                            1                  -5.0          1.0  \n",
       "2                            1                  13.0          0.0  \n",
       "3                            0                  27.0          0.0  \n",
       "4                            0                 -16.0          0.0  \n",
       "...                        ...                   ...          ...  \n",
       "114402                       1                 -33.0          NaN  \n",
       "114403                       1                 -18.0          NaN  \n",
       "114404                       0                 -36.0          NaN  \n",
       "114405                       0                   NaN          NaN  \n",
       "114406                       0                  27.0          NaN  \n",
       "\n",
       "[114407 rows x 104 columns]"
      ]
     },
     "execution_count": 3,
     "metadata": {},
     "output_type": "execute_result"
    }
   ],
   "source": [
    "df_all =df_all[ list(df_test.columns) + ['radiant_win']] \n",
    "df_all"
   ]
  },
  {
   "cell_type": "markdown",
   "id": "73b3ccfd-11e7-49b3-8f18-e32ed0a6bc90",
   "metadata": {},
   "source": [
    "## Gradient Boosting"
   ]
  },
  {
   "cell_type": "code",
   "execution_count": 4,
   "id": "4d87299b-8430-412a-bbfc-65f4b859e8b2",
   "metadata": {},
   "outputs": [],
   "source": [
    "from sklearn.ensemble import GradientBoostingClassifier"
   ]
  },
  {
   "cell_type": "markdown",
   "id": "c60e6442-8c1b-4ea7-b51f-1ae4eec01b7a",
   "metadata": {},
   "source": [
    "#### fill null fields as big value"
   ]
  },
  {
   "cell_type": "code",
   "execution_count": 5,
   "id": "b719b4a5-de0c-46c1-b808-01b9acf7777b",
   "metadata": {},
   "outputs": [],
   "source": [
    "def cross_val_GB(df_train, features=None, target='radiant_win', n_est = [10, 20, 30], frac=1):\n",
    "    if frac < 1:\n",
    "        df_train = df_train.sample(frac=frac)\n",
    "    if features is None:\n",
    "        features = [f for f in df_train.columns if f != target ]\n",
    "    X_train = df_train[features].values\n",
    "    y_train = df_train[target].values\n",
    "    cvs = {}\n",
    "    for n in n_est:\n",
    "        clf = GradientBoostingClassifier(n_estimators=n, max_depth=3)\n",
    "        cv = KFold(n_splits=5, shuffle=True)\n",
    "        accur = cross_val_score(clf, X_train, y_train, cv=cv, scoring='roc_auc')\n",
    "        cvs[n] = accur.mean()\n",
    "    cvs = pd.Series(cvs)\n",
    "    return cvs"
   ]
  },
  {
   "cell_type": "code",
   "execution_count": 6,
   "id": "89f9018e-bc29-4cf0-a10e-da7f5a395b66",
   "metadata": {},
   "outputs": [],
   "source": [
    "def predict_GB(df_train, df_test, features, n_esti = 20, target='radiant_win', filename='predict'):\n",
    "    \n",
    "    clf = GradientBoostingClassifier(n_estimators=n_esti)\n",
    "    \n",
    "    X_train = df_train[features].values\n",
    "    y_train = df_train[target].values\n",
    "    X_test = df_test[features].values\n",
    "    \n",
    "    clf.fit(X_train, y_train)\n",
    "    y_proba = clf.predict_proba(X_test)\n",
    "    \n",
    "    df_res = pd.DataFrame()\n",
    "    df_res['match_id'] = df_test['match_id']\n",
    "    df_res['radiant_win'] = y_proba[:,1]\n",
    "    df_res.to_csv('GB_{}.csv'.format(filename), index=False)\n"
   ]
  },
  {
   "cell_type": "code",
   "execution_count": 7,
   "id": "2b9feead-d6a8-45e1-90cb-c949cf0d77b8",
   "metadata": {},
   "outputs": [],
   "source": [
    "drop_features = ['radiant_win', 'match_id', 'start_time']\n",
    "features_all = [f for f in df_all.columns if f not in drop_features]"
   ]
  },
  {
   "cell_type": "code",
   "execution_count": 8,
   "id": "68b0a19c-6c44-4ce1-af97-6dc58aef6bd7",
   "metadata": {},
   "outputs": [],
   "source": [
    "df_train = df_all[df_all['radiant_win'].notnull()].fillna(99999)\n",
    "df_test = df_all[df_all['radiant_win'].isnull()].fillna(99999)"
   ]
  },
  {
   "cell_type": "code",
   "execution_count": 9,
   "id": "528e8979-5b5d-451b-9ec4-bbcab117afe9",
   "metadata": {},
   "outputs": [
    {
     "name": "stdout",
     "output_type": "stream",
     "text": [
      "Wall time: 3min 35s\n"
     ]
    },
    {
     "data": {
      "text/plain": [
       "10    0.668058\n",
       "20    0.684524\n",
       "30    0.691119\n",
       "dtype: float64"
      ]
     },
     "execution_count": 9,
     "metadata": {},
     "output_type": "execute_result"
    }
   ],
   "source": [
    "%%time\n",
    "\n",
    "features = features_all\n",
    "scores = cross_val_GB(df_train, features, frac=0.5)\n",
    "scores"
   ]
  },
  {
   "cell_type": "code",
   "execution_count": 10,
   "id": "bf0be3e6-f8c3-4026-9689-b693839d925c",
   "metadata": {},
   "outputs": [
    {
     "data": {
      "text/plain": [
       "(30, 0.6911194158391055)"
      ]
     },
     "execution_count": 10,
     "metadata": {},
     "output_type": "execute_result"
    }
   ],
   "source": [
    "best_param = scores.idxmax()\n",
    "best_param, scores[best_param]"
   ]
  },
  {
   "cell_type": "code",
   "execution_count": 11,
   "id": "e205bad0-96e5-4e2c-b02c-4c8adce9c9ae",
   "metadata": {},
   "outputs": [],
   "source": [
    "\n",
    "predict_GB(df_train, df_test, features, n_esti=best_param, filename='simpleGB')"
   ]
  },
  {
   "cell_type": "code",
   "execution_count": null,
   "id": "ae3e6a83-6fcb-4ec4-92ec-6360cce20489",
   "metadata": {},
   "outputs": [],
   "source": []
  },
  {
   "cell_type": "markdown",
   "id": "85740eb4-1dde-4965-a00c-314ee8e3dc3c",
   "metadata": {},
   "source": [
    "## Logistic regression"
   ]
  },
  {
   "cell_type": "code",
   "execution_count": 12,
   "id": "d0516241-108f-43b8-bf22-806242982ca5",
   "metadata": {},
   "outputs": [],
   "source": [
    "from sklearn.linear_model import LogisticRegression\n",
    "from sklearn.preprocessing import StandardScaler"
   ]
  },
  {
   "cell_type": "code",
   "execution_count": 13,
   "id": "2f3ae0ac-8632-4685-a341-fb1a74f36803",
   "metadata": {},
   "outputs": [],
   "source": [
    "def cross_val_LR(df_train, features=None, target='radiant_win', C = [0.25, 0.5, 1, 1.5, 2, 2.5, 3], frac=1, scale=False):\n",
    "    if frac < 1:\n",
    "        df_train = df_train.sample(frac=frac)\n",
    "    if features is None:\n",
    "        features = [f for f in df_train.columns if f != target ]\n",
    "    X_train = df_train[features].values\n",
    "    y_train = df_train[target].values\n",
    "    \n",
    "    if scale:\n",
    "        ss = StandardScaler()\n",
    "        X_train = ss.fit_transform(X_train)\n",
    "        \n",
    "    cvs = {}\n",
    "    for c in C:\n",
    "        clf = LogisticRegression(C=c)\n",
    "        cv = KFold(n_splits=5, shuffle=True)\n",
    "        accur = cross_val_score(clf, X_train, y_train, cv=cv, scoring='roc_auc')\n",
    "        cvs[c] = accur.mean()\n",
    "    cvs = pd.Series(cvs, name='[n_estimators] : accuracy')\n",
    "    return cvs\n",
    "                   "
   ]
  },
  {
   "cell_type": "code",
   "execution_count": 14,
   "id": "7e0cb2e9-99b2-43cd-9229-92cb632b3ce6",
   "metadata": {},
   "outputs": [],
   "source": [
    "def predict_LR(df_train, df_test, features, c=1, target='radiant_win', filename='predict'):\n",
    "    clf = LogisticRegression(C=c)\n",
    "    ss = StandardScaler()\n",
    "    \n",
    "    X_train = ss.fit_transform(df_train[features].values)\n",
    "    y_train = df_train[target].values\n",
    "    X_test = ss.transform(df_test[features].values)\n",
    "    \n",
    "    clf.fit(X_train, y_train)\n",
    "    y_proba = clf.predict_proba(X_test)\n",
    "    \n",
    "    df_res = pd.DataFrame()\n",
    "    df_res['match_id'] = df_test['match_id']\n",
    "    df_res['radiant_win'] = y_proba[:,1]\n",
    "    df_res.to_csv('LR_{}.csv'.format(filename), index=False)\n"
   ]
  },
  {
   "cell_type": "code",
   "execution_count": 15,
   "id": "4e3ead50-7ecd-46f8-8997-99abe3b7da5d",
   "metadata": {},
   "outputs": [],
   "source": [
    "drop_features = ['radiant_win', 'match_id', 'start_time']\n",
    "features_all = [f for f in df_all.columns if f not in drop_features]"
   ]
  },
  {
   "cell_type": "markdown",
   "id": "d829804d-1ed3-40eb-8f26-d2cc2e59b7a7",
   "metadata": {},
   "source": [
    "#### simple classification"
   ]
  },
  {
   "cell_type": "code",
   "execution_count": 16,
   "id": "30b251fa-bdcb-4c19-8847-d832f3daae36",
   "metadata": {},
   "outputs": [],
   "source": [
    "df_train = df_all[df_all['radiant_win'].notnull()].fillna(0)\n",
    "df_test = df_all[df_all['radiant_win'].isnull()].fillna(0)"
   ]
  },
  {
   "cell_type": "code",
   "execution_count": 17,
   "id": "cabe5f4b-6213-417f-beb3-09a491305536",
   "metadata": {},
   "outputs": [
    {
     "name": "stdout",
     "output_type": "stream",
     "text": [
      "Wall time: 46.7 s\n"
     ]
    },
    {
     "data": {
      "text/plain": [
       "0.25    0.716239\n",
       "0.50    0.716340\n",
       "1.00    0.716209\n",
       "1.50    0.716186\n",
       "2.00    0.716287\n",
       "2.50    0.716123\n",
       "3.00    0.716342\n",
       "Name: [n_estimators] : accuracy, dtype: float64"
      ]
     },
     "execution_count": 17,
     "metadata": {},
     "output_type": "execute_result"
    }
   ],
   "source": [
    "%%time\n",
    "\n",
    "features = features_all\n",
    "scores = cross_val_LR(df_train, features, scale=True)\n",
    "scores"
   ]
  },
  {
   "cell_type": "code",
   "execution_count": 18,
   "id": "1070d4c9-bea9-47b0-85ba-9f74a692ab05",
   "metadata": {},
   "outputs": [
    {
     "data": {
      "text/plain": [
       "(3.0, 0.7163417409973647)"
      ]
     },
     "execution_count": 18,
     "metadata": {},
     "output_type": "execute_result"
    }
   ],
   "source": [
    "best_param = scores.idxmax()\n",
    "best_param, scores[best_param]"
   ]
  },
  {
   "cell_type": "code",
   "execution_count": 19,
   "id": "86a6e426-9b48-4643-a222-ca6850a95b86",
   "metadata": {},
   "outputs": [],
   "source": [
    "predict_LR(df_train, df_test, features, c=best_param, filename='simple')"
   ]
  },
  {
   "cell_type": "markdown",
   "id": "59bd7800-6c34-4e6d-a90c-1ec0e62a2fb9",
   "metadata": {},
   "source": [
    "#### drop categorial features"
   ]
  },
  {
   "cell_type": "code",
   "execution_count": 20,
   "id": "3e9101fe-58d4-48ce-b8db-76f8d323477f",
   "metadata": {},
   "outputs": [
    {
     "data": {
      "text/plain": [
       "['r1_hero',\n",
       " 'r2_hero',\n",
       " 'r3_hero',\n",
       " 'r4_hero',\n",
       " 'r5_hero',\n",
       " 'd1_hero',\n",
       " 'd2_hero',\n",
       " 'd3_hero',\n",
       " 'd4_hero',\n",
       " 'd5_hero',\n",
       " 'lobby_type']"
      ]
     },
     "execution_count": 20,
     "metadata": {},
     "output_type": "execute_result"
    }
   ],
   "source": [
    "categ_features = [f for f in features_all if f.endswith('_hero')] + ['lobby_type']\n",
    "categ_features"
   ]
  },
  {
   "cell_type": "code",
   "execution_count": 21,
   "id": "f2b18792-1935-45bb-a798-0909d2e00558",
   "metadata": {},
   "outputs": [
    {
     "name": "stdout",
     "output_type": "stream",
     "text": [
      "Wall time: 43.2 s\n"
     ]
    },
    {
     "data": {
      "text/plain": [
       "0.25    0.716391\n",
       "0.50    0.716171\n",
       "1.00    0.716252\n",
       "1.50    0.716370\n",
       "2.00    0.716308\n",
       "2.50    0.716318\n",
       "3.00    0.716184\n",
       "Name: [n_estimators] : accuracy, dtype: float64"
      ]
     },
     "execution_count": 21,
     "metadata": {},
     "output_type": "execute_result"
    }
   ],
   "source": [
    "%%time \n",
    "\n",
    "features = [f for f in features_all if f not in categ_features]\n",
    "scores = cross_val_LR(df_train, features,C=[best_param] scale=True)\n",
    "scores"
   ]
  },
  {
   "cell_type": "code",
   "execution_count": 23,
   "id": "fe8b4bf9-d31c-4a3c-b059-567be0ce03f9",
   "metadata": {},
   "outputs": [],
   "source": [
    "predict_LR(df_train, df_test, features, c=best_param, filename='no_categ_feats')"
   ]
  },
  {
   "cell_type": "markdown",
   "id": "28a6805f-4e93-487e-b529-366f76c52e37",
   "metadata": {},
   "source": [
    "#### using bag of heroes"
   ]
  },
  {
   "cell_type": "code",
   "execution_count": 24,
   "id": "2c7f55c8-6b6b-4c71-8a51-a65e33ddd0af",
   "metadata": {},
   "outputs": [
    {
     "data": {
      "text/plain": [
       "(108,\n",
       " array([  1,   2,   3,   4,   5,   6,   7,   8,   9,  10,  11,  12,  13,\n",
       "         14,  15,  16,  17,  18,  19,  20,  21,  22,  23,  25,  26,  27,\n",
       "         28,  29,  30,  31,  32,  33,  34,  35,  36,  37,  38,  39,  40,\n",
       "         41,  42,  43,  44,  45,  46,  47,  48,  49,  50,  51,  52,  53,\n",
       "         54,  55,  56,  57,  58,  59,  60,  61,  62,  63,  64,  65,  66,\n",
       "         67,  68,  69,  70,  71,  72,  73,  74,  75,  76,  77,  78,  79,\n",
       "         80,  81,  82,  83,  84,  85,  86,  87,  88,  89,  90,  91,  92,\n",
       "         93,  94,  95,  96,  97,  98,  99, 100, 101, 102, 103, 104, 105,\n",
       "        106, 109, 110, 112], dtype=int64))"
      ]
     },
     "execution_count": 24,
     "metadata": {},
     "output_type": "execute_result"
    }
   ],
   "source": [
    "heroes = np.unique( df_train[[x for x in df_all.columns if x.endswith('_hero')]].values.reshape(-1) )\n",
    "len(heroes), heroes"
   ]
  },
  {
   "cell_type": "code",
   "execution_count": 25,
   "id": "212818fa-e9e3-4ff5-b4f4-8b8cade73a9a",
   "metadata": {},
   "outputs": [],
   "source": [
    "def bag_of_heroes(df, heroes=None, target='radiant_win'):\n",
    "    if heroes is None:\n",
    "        heroes = np.unique( df[[x for x in df.columns if x.endswith('_hero')]].values.reshape(-1) )\n",
    "        \n",
    "    X_pick = np.zeros((df.shape[0], heroes.max()))\n",
    "    \n",
    "    i_mod = int(0.1 * df.shape[0])\n",
    "    for i, match_id in enumerate(df.index):\n",
    "        for p in range(1,6):\n",
    "            X_pick[i, int(df.iloc[i][ 'r{}_hero'.format(p)]-1)] = 1\n",
    "            X_pick[i, int(df.iloc[i][ 'd{}_hero'.format(p)]-1)] = -1\n",
    "        if i % i_mod == 0:\n",
    "            print(int(100 * i / df.shape[0]), '%')\n",
    "            \n",
    "    cols = [str(h) for h in range(max(heroes))]\n",
    "    \n",
    "    df = pd.concat([df, pd.DataFrame( X_pick, columns=cols)], axis=1 )\n",
    "    df_train = df[df[target].notnull()]\n",
    "    df_test = df[df[target].isnull()]\n",
    "    return df_train, df_test"
   ]
  },
  {
   "cell_type": "code",
   "execution_count": 26,
   "id": "2411afa6-e01e-4d3e-a513-4e972e89ba9d",
   "metadata": {},
   "outputs": [
    {
     "name": "stdout",
     "output_type": "stream",
     "text": [
      "0 %\n",
      "9 %\n",
      "19 %\n",
      "29 %\n",
      "39 %\n",
      "49 %\n",
      "59 %\n",
      "69 %\n",
      "79 %\n",
      "89 %\n",
      "99 %\n",
      "Wall time: 4min 58s\n"
     ]
    },
    {
     "data": {
      "text/plain": [
       "((97230, 216), (17177, 216))"
      ]
     },
     "execution_count": 26,
     "metadata": {},
     "output_type": "execute_result"
    }
   ],
   "source": [
    "%%time\n",
    "\n",
    "df_train, df_test = bag_of_heroes(df_all)\n",
    "df_train = df_train.fillna(0)\n",
    "df_test = df_test.fillna(0)\n",
    "\n",
    "df_train.shape, df_test.shape"
   ]
  },
  {
   "cell_type": "code",
   "execution_count": 38,
   "id": "1dc48a00-ad65-40e5-91e1-2c35c8633b13",
   "metadata": {},
   "outputs": [
    {
     "ename": "MemoryError",
     "evalue": "Unable to allocate 92.0 MiB for an array with shape (124, 97230) and data type float64",
     "output_type": "error",
     "traceback": [
      "\u001b[1;31m---------------------------------------------------------------------------\u001b[0m",
      "\u001b[1;31mMemoryError\u001b[0m                               Traceback (most recent call last)",
      "\u001b[1;32m<timed exec>\u001b[0m in \u001b[0;36m<module>\u001b[1;34m\u001b[0m\n",
      "\u001b[1;32m~\\AppData\\Local\\Temp/ipykernel_4068/1406092587.py\u001b[0m in \u001b[0;36mcross_val_LR\u001b[1;34m(df_train, features, target, C, frac, scale)\u001b[0m\n\u001b[0;32m      4\u001b[0m     \u001b[1;32mif\u001b[0m \u001b[0mfeatures\u001b[0m \u001b[1;32mis\u001b[0m \u001b[1;32mNone\u001b[0m\u001b[1;33m:\u001b[0m\u001b[1;33m\u001b[0m\u001b[1;33m\u001b[0m\u001b[0m\n\u001b[0;32m      5\u001b[0m         \u001b[0mfeatures\u001b[0m \u001b[1;33m=\u001b[0m \u001b[1;33m[\u001b[0m\u001b[0mf\u001b[0m \u001b[1;32mfor\u001b[0m \u001b[0mf\u001b[0m \u001b[1;32min\u001b[0m \u001b[0mdf_train\u001b[0m\u001b[1;33m.\u001b[0m\u001b[0mcolumns\u001b[0m \u001b[1;32mif\u001b[0m \u001b[0mf\u001b[0m \u001b[1;33m!=\u001b[0m \u001b[0mtarget\u001b[0m \u001b[1;33m]\u001b[0m\u001b[1;33m\u001b[0m\u001b[1;33m\u001b[0m\u001b[0m\n\u001b[1;32m----> 6\u001b[1;33m     \u001b[0mX_train\u001b[0m \u001b[1;33m=\u001b[0m \u001b[0mdf_train\u001b[0m\u001b[1;33m[\u001b[0m\u001b[0mfeatures\u001b[0m\u001b[1;33m]\u001b[0m\u001b[1;33m.\u001b[0m\u001b[0mvalues\u001b[0m\u001b[1;33m\u001b[0m\u001b[1;33m\u001b[0m\u001b[0m\n\u001b[0m\u001b[0;32m      7\u001b[0m     \u001b[0my_train\u001b[0m \u001b[1;33m=\u001b[0m \u001b[0mdf_train\u001b[0m\u001b[1;33m[\u001b[0m\u001b[0mtarget\u001b[0m\u001b[1;33m]\u001b[0m\u001b[1;33m.\u001b[0m\u001b[0mvalues\u001b[0m\u001b[1;33m\u001b[0m\u001b[1;33m\u001b[0m\u001b[0m\n\u001b[0;32m      8\u001b[0m \u001b[1;33m\u001b[0m\u001b[0m\n",
      "\u001b[1;32mc:\\users\\pc\\appdata\\local\\programs\\python\\python38-32\\lib\\site-packages\\pandas\\core\\frame.py\u001b[0m in \u001b[0;36m__getitem__\u001b[1;34m(self, key)\u001b[0m\n\u001b[0;32m   3034\u001b[0m             \u001b[0mindexer\u001b[0m \u001b[1;33m=\u001b[0m \u001b[0mnp\u001b[0m\u001b[1;33m.\u001b[0m\u001b[0mwhere\u001b[0m\u001b[1;33m(\u001b[0m\u001b[0mindexer\u001b[0m\u001b[1;33m)\u001b[0m\u001b[1;33m[\u001b[0m\u001b[1;36m0\u001b[0m\u001b[1;33m]\u001b[0m\u001b[1;33m\u001b[0m\u001b[1;33m\u001b[0m\u001b[0m\n\u001b[0;32m   3035\u001b[0m \u001b[1;33m\u001b[0m\u001b[0m\n\u001b[1;32m-> 3036\u001b[1;33m         \u001b[0mdata\u001b[0m \u001b[1;33m=\u001b[0m \u001b[0mself\u001b[0m\u001b[1;33m.\u001b[0m\u001b[0m_take_with_is_copy\u001b[0m\u001b[1;33m(\u001b[0m\u001b[0mindexer\u001b[0m\u001b[1;33m,\u001b[0m \u001b[0maxis\u001b[0m\u001b[1;33m=\u001b[0m\u001b[1;36m1\u001b[0m\u001b[1;33m)\u001b[0m\u001b[1;33m\u001b[0m\u001b[1;33m\u001b[0m\u001b[0m\n\u001b[0m\u001b[0;32m   3037\u001b[0m \u001b[1;33m\u001b[0m\u001b[0m\n\u001b[0;32m   3038\u001b[0m         \u001b[1;32mif\u001b[0m \u001b[0mis_single_key\u001b[0m\u001b[1;33m:\u001b[0m\u001b[1;33m\u001b[0m\u001b[1;33m\u001b[0m\u001b[0m\n",
      "\u001b[1;32mc:\\users\\pc\\appdata\\local\\programs\\python\\python38-32\\lib\\site-packages\\pandas\\core\\generic.py\u001b[0m in \u001b[0;36m_take_with_is_copy\u001b[1;34m(self, indices, axis)\u001b[0m\n\u001b[0;32m   3598\u001b[0m         \u001b[0mSee\u001b[0m \u001b[0mthe\u001b[0m \u001b[0mdocstring\u001b[0m \u001b[0mof\u001b[0m\u001b[0;31m \u001b[0m\u001b[0;31m`\u001b[0m\u001b[0mtake\u001b[0m\u001b[0;31m`\u001b[0m \u001b[1;32mfor\u001b[0m \u001b[0mfull\u001b[0m \u001b[0mexplanation\u001b[0m \u001b[0mof\u001b[0m \u001b[0mthe\u001b[0m \u001b[0mparameters\u001b[0m\u001b[1;33m.\u001b[0m\u001b[1;33m\u001b[0m\u001b[1;33m\u001b[0m\u001b[0m\n\u001b[0;32m   3599\u001b[0m         \"\"\"\n\u001b[1;32m-> 3600\u001b[1;33m         \u001b[0mresult\u001b[0m \u001b[1;33m=\u001b[0m \u001b[0mself\u001b[0m\u001b[1;33m.\u001b[0m\u001b[0mtake\u001b[0m\u001b[1;33m(\u001b[0m\u001b[0mindices\u001b[0m\u001b[1;33m=\u001b[0m\u001b[0mindices\u001b[0m\u001b[1;33m,\u001b[0m \u001b[0maxis\u001b[0m\u001b[1;33m=\u001b[0m\u001b[0maxis\u001b[0m\u001b[1;33m)\u001b[0m\u001b[1;33m\u001b[0m\u001b[1;33m\u001b[0m\u001b[0m\n\u001b[0m\u001b[0;32m   3601\u001b[0m         \u001b[1;31m# Maybe set copy if we didn't actually change the index.\u001b[0m\u001b[1;33m\u001b[0m\u001b[1;33m\u001b[0m\u001b[1;33m\u001b[0m\u001b[0m\n\u001b[0;32m   3602\u001b[0m         \u001b[1;32mif\u001b[0m \u001b[1;32mnot\u001b[0m \u001b[0mresult\u001b[0m\u001b[1;33m.\u001b[0m\u001b[0m_get_axis\u001b[0m\u001b[1;33m(\u001b[0m\u001b[0maxis\u001b[0m\u001b[1;33m)\u001b[0m\u001b[1;33m.\u001b[0m\u001b[0mequals\u001b[0m\u001b[1;33m(\u001b[0m\u001b[0mself\u001b[0m\u001b[1;33m.\u001b[0m\u001b[0m_get_axis\u001b[0m\u001b[1;33m(\u001b[0m\u001b[0maxis\u001b[0m\u001b[1;33m)\u001b[0m\u001b[1;33m)\u001b[0m\u001b[1;33m:\u001b[0m\u001b[1;33m\u001b[0m\u001b[1;33m\u001b[0m\u001b[0m\n",
      "\u001b[1;32mc:\\users\\pc\\appdata\\local\\programs\\python\\python38-32\\lib\\site-packages\\pandas\\core\\generic.py\u001b[0m in \u001b[0;36mtake\u001b[1;34m(self, indices, axis, is_copy, **kwargs)\u001b[0m\n\u001b[0;32m   3584\u001b[0m         \u001b[0mself\u001b[0m\u001b[1;33m.\u001b[0m\u001b[0m_consolidate_inplace\u001b[0m\u001b[1;33m(\u001b[0m\u001b[1;33m)\u001b[0m\u001b[1;33m\u001b[0m\u001b[1;33m\u001b[0m\u001b[0m\n\u001b[0;32m   3585\u001b[0m \u001b[1;33m\u001b[0m\u001b[0m\n\u001b[1;32m-> 3586\u001b[1;33m         new_data = self._mgr.take(\n\u001b[0m\u001b[0;32m   3587\u001b[0m             \u001b[0mindices\u001b[0m\u001b[1;33m,\u001b[0m \u001b[0maxis\u001b[0m\u001b[1;33m=\u001b[0m\u001b[0mself\u001b[0m\u001b[1;33m.\u001b[0m\u001b[0m_get_block_manager_axis\u001b[0m\u001b[1;33m(\u001b[0m\u001b[0maxis\u001b[0m\u001b[1;33m)\u001b[0m\u001b[1;33m,\u001b[0m \u001b[0mverify\u001b[0m\u001b[1;33m=\u001b[0m\u001b[1;32mTrue\u001b[0m\u001b[1;33m\u001b[0m\u001b[1;33m\u001b[0m\u001b[0m\n\u001b[0;32m   3588\u001b[0m         )\n",
      "\u001b[1;32mc:\\users\\pc\\appdata\\local\\programs\\python\\python38-32\\lib\\site-packages\\pandas\\core\\internals\\managers.py\u001b[0m in \u001b[0;36mtake\u001b[1;34m(self, indexer, axis, verify, convert)\u001b[0m\n\u001b[0;32m   1472\u001b[0m \u001b[1;33m\u001b[0m\u001b[0m\n\u001b[0;32m   1473\u001b[0m         \u001b[0mnew_labels\u001b[0m \u001b[1;33m=\u001b[0m \u001b[0mself\u001b[0m\u001b[1;33m.\u001b[0m\u001b[0maxes\u001b[0m\u001b[1;33m[\u001b[0m\u001b[0maxis\u001b[0m\u001b[1;33m]\u001b[0m\u001b[1;33m.\u001b[0m\u001b[0mtake\u001b[0m\u001b[1;33m(\u001b[0m\u001b[0mindexer\u001b[0m\u001b[1;33m)\u001b[0m\u001b[1;33m\u001b[0m\u001b[1;33m\u001b[0m\u001b[0m\n\u001b[1;32m-> 1474\u001b[1;33m         return self.reindex_indexer(\n\u001b[0m\u001b[0;32m   1475\u001b[0m             \u001b[0mnew_axis\u001b[0m\u001b[1;33m=\u001b[0m\u001b[0mnew_labels\u001b[0m\u001b[1;33m,\u001b[0m \u001b[0mindexer\u001b[0m\u001b[1;33m=\u001b[0m\u001b[0mindexer\u001b[0m\u001b[1;33m,\u001b[0m \u001b[0maxis\u001b[0m\u001b[1;33m=\u001b[0m\u001b[0maxis\u001b[0m\u001b[1;33m,\u001b[0m \u001b[0mallow_dups\u001b[0m\u001b[1;33m=\u001b[0m\u001b[1;32mTrue\u001b[0m\u001b[1;33m\u001b[0m\u001b[1;33m\u001b[0m\u001b[0m\n\u001b[0;32m   1476\u001b[0m         )\n",
      "\u001b[1;32mc:\\users\\pc\\appdata\\local\\programs\\python\\python38-32\\lib\\site-packages\\pandas\\core\\internals\\managers.py\u001b[0m in \u001b[0;36mreindex_indexer\u001b[1;34m(self, new_axis, indexer, axis, fill_value, allow_dups, copy, consolidate, only_slice)\u001b[0m\n\u001b[0;32m   1305\u001b[0m \u001b[1;33m\u001b[0m\u001b[0m\n\u001b[0;32m   1306\u001b[0m         \u001b[1;32mif\u001b[0m \u001b[0maxis\u001b[0m \u001b[1;33m==\u001b[0m \u001b[1;36m0\u001b[0m\u001b[1;33m:\u001b[0m\u001b[1;33m\u001b[0m\u001b[1;33m\u001b[0m\u001b[0m\n\u001b[1;32m-> 1307\u001b[1;33m             new_blocks = self._slice_take_blocks_ax0(\n\u001b[0m\u001b[0;32m   1308\u001b[0m                 \u001b[0mindexer\u001b[0m\u001b[1;33m,\u001b[0m \u001b[0mfill_value\u001b[0m\u001b[1;33m=\u001b[0m\u001b[0mfill_value\u001b[0m\u001b[1;33m,\u001b[0m \u001b[0monly_slice\u001b[0m\u001b[1;33m=\u001b[0m\u001b[0monly_slice\u001b[0m\u001b[1;33m\u001b[0m\u001b[1;33m\u001b[0m\u001b[0m\n\u001b[0;32m   1309\u001b[0m             )\n",
      "\u001b[1;32mc:\\users\\pc\\appdata\\local\\programs\\python\\python38-32\\lib\\site-packages\\pandas\\core\\internals\\managers.py\u001b[0m in \u001b[0;36m_slice_take_blocks_ax0\u001b[1;34m(self, slice_or_indexer, fill_value, only_slice)\u001b[0m\n\u001b[0;32m   1435\u001b[0m                             \u001b[0mblocks\u001b[0m\u001b[1;33m.\u001b[0m\u001b[0mappend\u001b[0m\u001b[1;33m(\u001b[0m\u001b[0mnb\u001b[0m\u001b[1;33m)\u001b[0m\u001b[1;33m\u001b[0m\u001b[1;33m\u001b[0m\u001b[0m\n\u001b[0;32m   1436\u001b[0m                     \u001b[1;32melse\u001b[0m\u001b[1;33m:\u001b[0m\u001b[1;33m\u001b[0m\u001b[1;33m\u001b[0m\u001b[0m\n\u001b[1;32m-> 1437\u001b[1;33m                         \u001b[0mnb\u001b[0m \u001b[1;33m=\u001b[0m \u001b[0mblk\u001b[0m\u001b[1;33m.\u001b[0m\u001b[0mtake_nd\u001b[0m\u001b[1;33m(\u001b[0m\u001b[0mtaker\u001b[0m\u001b[1;33m,\u001b[0m \u001b[0maxis\u001b[0m\u001b[1;33m=\u001b[0m\u001b[1;36m0\u001b[0m\u001b[1;33m,\u001b[0m \u001b[0mnew_mgr_locs\u001b[0m\u001b[1;33m=\u001b[0m\u001b[0mmgr_locs\u001b[0m\u001b[1;33m)\u001b[0m\u001b[1;33m\u001b[0m\u001b[1;33m\u001b[0m\u001b[0m\n\u001b[0m\u001b[0;32m   1438\u001b[0m                         \u001b[0mblocks\u001b[0m\u001b[1;33m.\u001b[0m\u001b[0mappend\u001b[0m\u001b[1;33m(\u001b[0m\u001b[0mnb\u001b[0m\u001b[1;33m)\u001b[0m\u001b[1;33m\u001b[0m\u001b[1;33m\u001b[0m\u001b[0m\n\u001b[0;32m   1439\u001b[0m \u001b[1;33m\u001b[0m\u001b[0m\n",
      "\u001b[1;32mc:\\users\\pc\\appdata\\local\\programs\\python\\python38-32\\lib\\site-packages\\pandas\\core\\internals\\blocks.py\u001b[0m in \u001b[0;36mtake_nd\u001b[1;34m(self, indexer, axis, new_mgr_locs, fill_value)\u001b[0m\n\u001b[0;32m   1393\u001b[0m             \u001b[0mallow_fill\u001b[0m \u001b[1;33m=\u001b[0m \u001b[1;32mTrue\u001b[0m\u001b[1;33m\u001b[0m\u001b[1;33m\u001b[0m\u001b[0m\n\u001b[0;32m   1394\u001b[0m \u001b[1;33m\u001b[0m\u001b[0m\n\u001b[1;32m-> 1395\u001b[1;33m         new_values = algos.take_nd(\n\u001b[0m\u001b[0;32m   1396\u001b[0m             \u001b[0mvalues\u001b[0m\u001b[1;33m,\u001b[0m \u001b[0mindexer\u001b[0m\u001b[1;33m,\u001b[0m \u001b[0maxis\u001b[0m\u001b[1;33m=\u001b[0m\u001b[0maxis\u001b[0m\u001b[1;33m,\u001b[0m \u001b[0mallow_fill\u001b[0m\u001b[1;33m=\u001b[0m\u001b[0mallow_fill\u001b[0m\u001b[1;33m,\u001b[0m \u001b[0mfill_value\u001b[0m\u001b[1;33m=\u001b[0m\u001b[0mfill_value\u001b[0m\u001b[1;33m\u001b[0m\u001b[1;33m\u001b[0m\u001b[0m\n\u001b[0;32m   1397\u001b[0m         )\n",
      "\u001b[1;32mc:\\users\\pc\\appdata\\local\\programs\\python\\python38-32\\lib\\site-packages\\pandas\\core\\algorithms.py\u001b[0m in \u001b[0;36mtake_nd\u001b[1;34m(arr, indexer, axis, out, fill_value, allow_fill)\u001b[0m\n\u001b[0;32m   1752\u001b[0m             \u001b[0mout\u001b[0m \u001b[1;33m=\u001b[0m \u001b[0mnp\u001b[0m\u001b[1;33m.\u001b[0m\u001b[0mempty\u001b[0m\u001b[1;33m(\u001b[0m\u001b[0mout_shape\u001b[0m\u001b[1;33m,\u001b[0m \u001b[0mdtype\u001b[0m\u001b[1;33m=\u001b[0m\u001b[0mdtype\u001b[0m\u001b[1;33m,\u001b[0m \u001b[0morder\u001b[0m\u001b[1;33m=\u001b[0m\u001b[1;34m\"F\"\u001b[0m\u001b[1;33m)\u001b[0m\u001b[1;33m\u001b[0m\u001b[1;33m\u001b[0m\u001b[0m\n\u001b[0;32m   1753\u001b[0m         \u001b[1;32melse\u001b[0m\u001b[1;33m:\u001b[0m\u001b[1;33m\u001b[0m\u001b[1;33m\u001b[0m\u001b[0m\n\u001b[1;32m-> 1754\u001b[1;33m             \u001b[0mout\u001b[0m \u001b[1;33m=\u001b[0m \u001b[0mnp\u001b[0m\u001b[1;33m.\u001b[0m\u001b[0mempty\u001b[0m\u001b[1;33m(\u001b[0m\u001b[0mout_shape\u001b[0m\u001b[1;33m,\u001b[0m \u001b[0mdtype\u001b[0m\u001b[1;33m=\u001b[0m\u001b[0mdtype\u001b[0m\u001b[1;33m)\u001b[0m\u001b[1;33m\u001b[0m\u001b[1;33m\u001b[0m\u001b[0m\n\u001b[0m\u001b[0;32m   1755\u001b[0m \u001b[1;33m\u001b[0m\u001b[0m\n\u001b[0;32m   1756\u001b[0m     func = _get_take_nd_function(\n",
      "\u001b[1;31mMemoryError\u001b[0m: Unable to allocate 92.0 MiB for an array with shape (124, 97230) and data type float64"
     ]
    }
   ],
   "source": [
    "%%time\n",
    "\n",
    "features = [f for f in features_all if f not in categ_features] + [str(h) for h in range(max(heroes))]\n",
    "scores = cross_val_LR(df_train, features,C=[best_param], scale=True)\n",
    "scores"
   ]
  },
  {
   "cell_type": "code",
   "execution_count": 34,
   "id": "c8b82d4a-b834-4cf3-8a1b-49e87cfdd250",
   "metadata": {},
   "outputs": [],
   "source": [
    "predict_LR(df_train, df_test, features, c=best_param, filename='bag_of_heroes')"
   ]
  }
 ],
 "metadata": {
  "kernelspec": {
   "display_name": "Python 3 (ipykernel)",
   "language": "python",
   "name": "python3"
  },
  "language_info": {
   "codemirror_mode": {
    "name": "ipython",
    "version": 3
   },
   "file_extension": ".py",
   "mimetype": "text/x-python",
   "name": "python",
   "nbconvert_exporter": "python",
   "pygments_lexer": "ipython3",
   "version": "3.8.3"
  },
  "toc-autonumbering": false,
  "toc-showcode": false,
  "toc-showmarkdowntxt": true,
  "toc-showtags": true
 },
 "nbformat": 4,
 "nbformat_minor": 5
}
